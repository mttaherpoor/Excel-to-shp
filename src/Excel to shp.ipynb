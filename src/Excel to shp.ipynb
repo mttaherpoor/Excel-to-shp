{
 "cells": [
  {
   "cell_type": "markdown",
   "id": "9c388c1d",
   "metadata": {},
   "source": [
    "# In this project, we are converting data from Excel to shapefiles using Python in 6 different mode:\n",
    "- Point\n",
    "- MultiPoint\n",
    "- LineString\n",
    "- MultiLineString\n",
    "- Polygon\n",
    "- MultiPolygon"
   ]
  },
  {
   "cell_type": "markdown",
   "id": "ed68b084",
   "metadata": {},
   "source": [
    "## Import the following libraries.\n",
    "Make sure to install the necessary ones :\n",
    "\n",
    "- **geopandas** install required.\n",
    "\n",
    "- **pandas,shapely,ast,os** already installed!"
   ]
  },
  {
   "cell_type": "code",
   "execution_count": 6,
   "id": "6fd3cb41",
   "metadata": {},
   "outputs": [],
   "source": [
    "import geopandas as gpd\n",
    "import pandas as pd\n",
    "import shapely\n",
    "import ast\n",
    "import os"
   ]
  },
  {
   "cell_type": "markdown",
   "id": "23f321e8",
   "metadata": {},
   "source": [
    "## Import Excel\n",
    "\n",
    "- Then, it reads the address from an Excel file where the addresses are stored in a column named \"Address.\"\n",
    "\n",
    "- It selects one of the six modes from the \"Mode\" column \n",
    "- assigns it to the \"coor\" column.\n",
    "  - If the coordinates are in the format of latitude and longitude, it assigns the value **4326**.\n",
    "  - If the coordinates are in the format of UTM Zone, it **adds 23600 to the zone number** and assigns the result to the \"coor\" column.for example UTM 39 N is 23639"
   ]
  },
  {
   "cell_type": "code",
   "execution_count": 78,
   "id": "b56bce8f",
   "metadata": {},
   "outputs": [
    {
     "name": "stdout",
     "output_type": "stream",
     "text": [
      "insert your excel urls : G:\\Git Project\\Excel to Shp\\Excel\\address_excel.xlsx\n"
     ]
    }
   ],
   "source": [
    "address=input(\"insert your excel urls : \")\n",
    "df=pd.read_excel(address)\n"
   ]
  },
  {
   "cell_type": "markdown",
   "id": "c118e19f",
   "metadata": {},
   "source": [
    "## Select the directory address."
   ]
  },
  {
   "cell_type": "code",
   "execution_count": 80,
   "id": "725198de",
   "metadata": {},
   "outputs": [
    {
     "name": "stdout",
     "output_type": "stream",
     "text": [
      "Enter the directory path: G:\\Git Project\\Excel to Shp\\Shp\n"
     ]
    }
   ],
   "source": [
    "input_dir = input(\"Enter the directory path: \")\n",
    "if not os.path.exists(input_dir):\n",
    "    os.makedirs(input_dir)"
   ]
  },
  {
   "cell_type": "markdown",
   "id": "42c3e0ba",
   "metadata": {},
   "source": [
    "## Excel_to_gdf function\n",
    "### input:\n",
    "- DataFrame :Excel file\n",
    "- Mode : Choose from this :\n",
    "    - Point\n",
    "    - MultiPoint\n",
    "    - LineString\n",
    "    - MultiLineString\n",
    "    - Polygon\n",
    "    - MultiPolygon\n",
    "- Column : The field that contains geometric information\n",
    "\n",
    "### output:\n",
    "- GeoDataFrame : Excel file with *geomtry field*"
   ]
  },
  {
   "cell_type": "code",
   "execution_count": 71,
   "id": "b1f4bcc1",
   "metadata": {},
   "outputs": [],
   "source": [
    "def Excel_to_gdf(df, mode, column):\n",
    "    # Convert string representations of lists to actual lists\n",
    "    df[column] = df[column].apply(ast.literal_eval)\n",
    "    \n",
    "    if mode == \"MultiPolygon\":\n",
    "        # Create MultiPolygon geometries\n",
    "        df['geometry'] = df[column].apply(lambda x: shapely.geometry.MultiPolygon([shapely.geometry.Polygon(poly[0]) for poly in x]))\n",
    "    elif mode == \"Polygon\":\n",
    "        # Create Polygon geometries\n",
    "        df['geometry'] = df[column].apply(lambda x: shapely.geometry.Polygon(x[0]))\n",
    "    elif mode == \"Point\":\n",
    "        # Create Point geometries\n",
    "        df['geometry'] = df[column].apply(lambda x: shapely.geometry.Point(x))\n",
    "    elif mode == \"MultiPoint\":\n",
    "        # Create MultiPoint geometries\n",
    "        df['geometry'] = df[column].apply(lambda x: shapely.geometry.MultiPoint(x))\n",
    "    elif mode == \"LineString\":\n",
    "        # Create LineString geometries\n",
    "        df['geometry'] = df[column].apply(lambda x: shapely.geometry.LineString(x))\n",
    "    elif mode == \"MultiLineString\":\n",
    "        # Create MultiLineString geometries\n",
    "        df['geometry'] = df[column].apply(lambda x: shapely.geometry.MultiLineString(x))\n",
    "        \n",
    "    else:\n",
    "        raise ValueError(\"Invalid mode. Supported modes are: MultiPolygon, Polygon, Point, MultiPoint, LineString and MultiLineString.\")\n",
    "    \n",
    "    df.drop(columns=column, inplace=True)\n",
    "    gdf = gpd.GeoDataFrame(df, geometry='geometry')\n",
    "    return gdf"
   ]
  },
  {
   "cell_type": "markdown",
   "id": "d7d173b4",
   "metadata": {},
   "source": [
    "## Export Shapefile\n",
    "\n",
    "- dfi : Each Data in Excel\n",
    "- outputNamei : name of each data\n",
    "- crsi : Coordinate System of each data"
   ]
  },
  {
   "cell_type": "code",
   "execution_count": 81,
   "id": "670f0c4d",
   "metadata": {
    "scrolled": false
   },
   "outputs": [],
   "source": [
    "for i,row in df.iterrows():\n",
    "    dfi=pd.read_excel(row[\"address\"])\n",
    "    mode=row[\"mode\"]\n",
    "    column=row[\"column\"]\n",
    "    gdfi=Excel_to_gdf(dfi,mode,column)\n",
    "    name=row[\"address\"]\n",
    "    outputNamei=name.split(\"\\\\\")[-1].split(\".\")[0]\n",
    "    crsi = row[\"Coor\"]\n",
    "    # Save the GeoDataFrame to a shapefile with UTF-8 encoding and UTM 39N CRS\n",
    "    gdfi.to_file(os.path.join(input_dir, f\"{outputNamei}.shp\"), encoding='utf-8', driver='ESRI Shapefile', crs=crs)\n",
    "    "
   ]
  },
  {
   "cell_type": "markdown",
   "id": "ab7c14e8",
   "metadata": {},
   "source": [
    "# Thansks"
   ]
  }
 ],
 "metadata": {
  "kernelspec": {
   "display_name": "Python 3",
   "language": "python",
   "name": "python3"
  },
  "language_info": {
   "codemirror_mode": {
    "name": "ipython",
    "version": 3
   },
   "file_extension": ".py",
   "mimetype": "text/x-python",
   "name": "python",
   "nbconvert_exporter": "python",
   "pygments_lexer": "ipython3",
   "version": "3.9.11"
  }
 },
 "nbformat": 4,
 "nbformat_minor": 5
}
